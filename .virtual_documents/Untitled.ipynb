import torch


A = torch.arange(24).view(2,3,4)


A.shape


B = torch.arange(24).view(2,4,3)


B.shape


(B @ A).shape


C = torch.arange(18).view(2,3,3)
C.shape


(B @ C).shape


D = torch.arange(48).view(2,2,3,4)
D.shape


(D @ B).shape



