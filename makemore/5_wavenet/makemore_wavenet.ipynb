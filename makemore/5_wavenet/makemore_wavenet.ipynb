{
 "cells": [
  {
   "cell_type": "code",
   "execution_count": 1,
   "id": "fee9eb54-a112-490e-af39-1c37e8df7330",
   "metadata": {},
   "outputs": [],
   "source": [
    "import torch\n",
    "import torch.nn.functional as F\n",
    "import matplotlib.pyplot as plt\n",
    "%matplotlib inline"
   ]
  },
  {
   "cell_type": "code",
   "execution_count": 2,
   "id": "d57045ca-36f2-437c-8832-de8536db3c2b",
   "metadata": {},
   "outputs": [
    {
     "data": {
      "text/plain": [
       "['abel', 'abelone', 'abigael', 'abigail', 'ada', 'adela', 'adelaide', 'adele']"
      ]
     },
     "execution_count": 2,
     "metadata": {},
     "output_type": "execute_result"
    }
   ],
   "source": [
    "words = open(\"nameses/girl_names.txt\", \"r\").read().splitlines()\n",
    "words = [word.lower() for word in words]\n",
    "words[:8]"
   ]
  },
  {
   "cell_type": "code",
   "execution_count": 3,
   "id": "147f3c08-5385-4e80-9431-155a2bf530f2",
   "metadata": {},
   "outputs": [
    {
     "data": {
      "text/plain": [
       "3046"
      ]
     },
     "execution_count": 3,
     "metadata": {},
     "output_type": "execute_result"
    }
   ],
   "source": [
    "len(words)"
   ]
  },
  {
   "cell_type": "code",
   "execution_count": 4,
   "id": "8ffc6ae5-c49d-4566-a763-d7ab910932e7",
   "metadata": {},
   "outputs": [
    {
     "name": "stdout",
     "output_type": "stream",
     "text": [
      "{1: 'a', 2: 'b', 3: 'c', 4: 'd', 5: 'e', 6: 'f', 7: 'g', 8: 'h', 9: 'i', 10: 'j', 11: 'k', 12: 'l', 13: 'm', 14: 'n', 15: 'o', 16: 'p', 17: 'q', 18: 'r', 19: 's', 20: 't', 21: 'u', 22: 'v', 23: 'w', 24: 'x', 25: 'y', 26: 'z', 27: 'ä', 28: 'å', 29: 'æ', 30: 'ç', 31: 'é', 32: 'ø', 0: '.'}\n",
      "33\n"
     ]
    }
   ],
   "source": [
    "# Building out vocabulary\n",
    "chars = sorted(list(set(\"\".join(words))))\n",
    "stoi = {s:i+1 for i,s in enumerate(chars)}\n",
    "stoi[\".\"] = 0\n",
    "itos = {i:s for s,i in stoi.items()}\n",
    "vocab_size = len(itos)\n",
    "print(itos)\n",
    "print(vocab_size)"
   ]
  },
  {
   "cell_type": "code",
   "execution_count": 5,
   "id": "8dc8a8d5-6335-43ad-846f-bdd35b8cbd4e",
   "metadata": {},
   "outputs": [
    {
     "name": "stdout",
     "output_type": "stream",
     "text": [
      "torch.Size([17019, 8]) torch.Size([17019])\n",
      "torch.Size([2145, 8]) torch.Size([2145])\n",
      "torch.Size([2065, 8]) torch.Size([2065])\n"
     ]
    }
   ],
   "source": [
    "# Buliding the dataset with splits\n",
    "block_size = 8 # context length: how many characters do we take to predict the next one\n",
    "\n",
    "def build_dataset(words):\n",
    "    X, Y = [], []\n",
    "    \n",
    "    for w in words:\n",
    "        context = [0] * block_size\n",
    "        for ch in w + \".\":\n",
    "            ix = stoi[ch]\n",
    "            X.append(context)\n",
    "            Y.append(ix)\n",
    "            context = context[1:] + [ix] # crop and append\n",
    "    X = torch.tensor(X)\n",
    "    Y = torch.tensor(Y)\n",
    "    print(X.shape, Y.shape)\n",
    "    return X, Y\n",
    "\n",
    "import random\n",
    "random.seed(42)\n",
    "random.shuffle(words)\n",
    "n1 = int(0.8*len(words))\n",
    "n2 = int(0.9*len(words))\n",
    "\n",
    "Xtr, Ytr = build_dataset(words[:n1])       # 80%\n",
    "Xdev, Ydev = build_dataset(words[n1:n2])   # 10%\n",
    "Xte, Yte = build_dataset(words[n2:])       # 10%"
   ]
  },
  {
   "cell_type": "code",
   "execution_count": 6,
   "id": "b32cc1c6-eb79-4fa0-aafa-2ae1510e4c70",
   "metadata": {},
   "outputs": [
    {
     "name": "stdout",
     "output_type": "stream",
     "text": [
      "........ --> a\n",
      ".......a --> l\n",
      "......al --> l\n",
      ".....all --> i\n",
      "....alli --> .\n",
      "........ --> g\n",
      ".......g --> ø\n",
      "......gø --> n\n",
      ".....gøn --> n\n",
      "....gønn --> e\n",
      "...gønne --> r\n",
      "..gønner --> .\n",
      "........ --> n\n",
      ".......n --> o\n",
      "......no --> r\n",
      ".....nor --> v\n",
      "....norv --> e\n",
      "...norve --> i\n",
      "..norvei --> g\n",
      ".norveig --> .\n"
     ]
    }
   ],
   "source": [
    "for x, y in zip(Xtr[:20], Ytr[:20]):\n",
    "    print(\"\".join(itos[ix.item()] for ix in x), \"-->\", itos[y.item()])"
   ]
  },
  {
   "cell_type": "markdown",
   "id": "c1450c2d-f704-4032-8d70-80c7e11b3394",
   "metadata": {},
   "source": [
    "## Main code"
   ]
  },
  {
   "cell_type": "code",
   "execution_count": 7,
   "id": "14bb89f0-7158-4310-984c-2b1476685148",
   "metadata": {},
   "outputs": [],
   "source": [
    "# OOP is OP\n",
    "# -----------------------------------------------------------------------------------------------------------------------\n",
    "class Linear:\n",
    "\n",
    "    def __init__(self, fan_in, fan_out, bias=True):\n",
    "        self.weight = torch.randn((fan_in, fan_out)) / fan_in**0.5 # kaiming init\n",
    "        self.bias = torch.zeros(fan_out) if bias else None\n",
    "\n",
    "    def __call__(self, x):\n",
    "        self.out = x @ self.weight\n",
    "        if self.bias is not None:\n",
    "            self.out += self.bias\n",
    "        return self.out\n",
    "\n",
    "    def parameters(self):\n",
    "        return [self.weight] + ([] if self.bias is None else [self.bias])\n",
    "\n",
    "# -----------------------------------------------------------------------------------------------------------------------\n",
    "class BatchNorm1d:\n",
    "\n",
    "    def __init__(self, dim, eps=1e-5, momentum=0.1):\n",
    "        self.eps = eps\n",
    "        self.momentum = momentum\n",
    "        self.training = True\n",
    "        # parameters (trained with backprop)\n",
    "        self.gamma = torch.ones(dim)\n",
    "        self.beta = torch.zeros(dim)\n",
    "        # buffers (trained with a running 'momentum update')\n",
    "        self.running_mean = torch.zeros(dim)\n",
    "        self.running_var = torch.ones(dim)\n",
    "\n",
    "    def __call__(self, x):\n",
    "        # calculate forward pass\n",
    "        if self.training:\n",
    "            if x.ndim == 2:\n",
    "                dim = 0\n",
    "            elif x.ndim == 3:\n",
    "                dim = (0, 1)\n",
    "            xmean = x.mean(dim, keepdim=True) # batch mean\n",
    "            xvar = x.var(dim, keepdim=True) # batch variance\n",
    "        else:\n",
    "            xmean = self.running_mean\n",
    "            xvar = self.running_var\n",
    "        xhat = (x - xmean) / torch.sqrt(xvar + self.eps) # normalize to unit variance\n",
    "        self.out = self.gamma * xhat + self.beta\n",
    "        # update the buffers\n",
    "        if self.training:\n",
    "            with torch.no_grad():\n",
    "                self.running_mean = (1 - self.momentum) * self.running_mean + self.momentum * xmean\n",
    "                self.running_var = (1 - self.momentum) * self.running_var + self.momentum * xvar\n",
    "        return self.out\n",
    "\n",
    "    def parameters(self):\n",
    "        return [self.gamma, self.beta]\n",
    "\n",
    "# -----------------------------------------------------------------------------------------------------------------------\n",
    "class Tanh:\n",
    "    \n",
    "    def __call__(self, x):\n",
    "        self.out = torch.tanh(x)\n",
    "        return self.out\n",
    "        \n",
    "    def parameters(self):\n",
    "        return []\n",
    "\n",
    "# -----------------------------------------------------------------------------------------------------------------------\n",
    "class Embedding:\n",
    "    \n",
    "    def __init__(self, num_embeddings, embedding_dim):\n",
    "        self.weight = torch.randn((vocab_size, n_embd))\n",
    "\n",
    "    def __call__(self, IX):\n",
    "        self.out = self.weight[IX]\n",
    "        return self.out\n",
    "\n",
    "    def parameters(self):\n",
    "        return [self.weight]\n",
    "\n",
    "# -----------------------------------------------------------------------------------------------------------------------\n",
    "class FlattenConsecutive:\n",
    "\n",
    "    def __init__(self, n):\n",
    "        self.n = n\n",
    "    \n",
    "    def __call__(self, x):\n",
    "        B, T, C = x.shape\n",
    "        x = x.view(B, T//self.n, C*self.n)\n",
    "        if x.shape[1] == 1:\n",
    "            x = x.squeeze(1)\n",
    "        self.out = x\n",
    "        return self.out\n",
    "    \n",
    "    def parameters(self):\n",
    "        return []\n",
    "\n",
    "# -----------------------------------------------------------------------------------------------------------------------\n",
    "class Sequential:\n",
    "    \n",
    "    def __init__(self, layers):\n",
    "        self.layers = layers\n",
    "\n",
    "    def __call__(self, x):\n",
    "        for layer in self.layers:\n",
    "            x = layer(x)\n",
    "        self.out = x\n",
    "        return self.out\n",
    "\n",
    "    def parameters(self):\n",
    "        # Get parameters of all layers and stretch them out into one list\n",
    "        return [p for layer in self.layers for p in layer.parameters()]\n",
    "    "
   ]
  },
  {
   "cell_type": "code",
   "execution_count": 8,
   "id": "85a2d30f-269d-49b8-a53d-2995648256a7",
   "metadata": {},
   "outputs": [],
   "source": [
    "torch.manual_seed(42); # seed rng for reproducibility"
   ]
  },
  {
   "cell_type": "code",
   "execution_count": 27,
   "id": "95a212e1-91cd-45d5-a3b3-97bd8ff6e756",
   "metadata": {},
   "outputs": [
    {
     "name": "stdout",
     "output_type": "stream",
     "text": [
      "Total parameters: 77497\n"
     ]
    }
   ],
   "source": [
    "n_embd = 24 # the dimensionality of the character embedding  vectors\n",
    "n_hidden= 128 # number of neurons in the hidden layer\n",
    "\n",
    "model  = Sequential([\n",
    "    Embedding(vocab_size, n_embd),\n",
    "    FlattenConsecutive(2), Linear(n_embd*2, n_hidden, bias=False), BatchNorm1d(n_hidden), Tanh(),\n",
    "    FlattenConsecutive(2), Linear(n_hidden*2, n_hidden, bias=False), BatchNorm1d(n_hidden), Tanh(),\n",
    "    FlattenConsecutive(2), Linear(n_hidden*2, n_hidden, bias=False), BatchNorm1d(n_hidden), Tanh(),\n",
    "    Linear(n_hidden, vocab_size), \n",
    "])\n",
    "\n",
    "# parameter init\n",
    "with torch.no_grad():\n",
    "    model.layers[-1].weight *= 0.1 # make last layer less confident\n",
    "\n",
    "parameters = model.parameters()\n",
    "print(\"Total parameters:\" ,sum(p.nelement() for p in parameters)) # number of total trainable parameters\n",
    "for p in parameters:\n",
    "    p.requires_grad = True"
   ]
  },
  {
   "attachments": {
    "b0beeaa5-44bc-4a2e-b27a-a1970b67f7f0.png": {
     "image/png": "[encoded data removed]"
    }
   },
   "cell_type": "markdown",
   "id": "62283b34-9d43-4e5b-80d1-b495b51cd630",
   "metadata": {},
   "source": [
    "**Here is essentially what our new model looks like:**\n",
    "\n",
    "![image.png](attachment:b0beeaa5-44bc-4a2e-b27a-a1970b67f7f0.png)"
   ]
  },
  {
   "cell_type": "markdown",
   "id": "840987c6-cfde-4135-9f14-8e0009cbb84e",
   "metadata": {
    "jp-MarkdownHeadingCollapsed": true
   },
   "source": [
    "### Testing for new flatten layer"
   ]
  },
  {
   "cell_type": "code",
   "execution_count": 24,
   "id": "d8f3ce3e-ba45-466f-b829-00f139d4b41a",
   "metadata": {},
   "outputs": [
    {
     "name": "stdout",
     "output_type": "stream",
     "text": [
      "torch.Size([4, 8])\n"
     ]
    },
    {
     "data": {
      "text/plain": [
       "tensor([[ 0,  0,  0,  0,  0,  0,  0,  0],\n",
       "        [ 0,  0,  4,  5, 12,  9, 14,  1],\n",
       "        [ 0,  0,  0,  0,  0,  0,  0,  0],\n",
       "        [ 0,  0,  0,  0, 19,  5, 18,  9]])"
      ]
     },
     "execution_count": 24,
     "metadata": {},
     "output_type": "execute_result"
    }
   ],
   "source": [
    "ix = torch.randint(0, Xtr.shape[0], (4,))\n",
    "Xb, Yb = Xtr[ix], Ytr[ix]\n",
    "logits = model(Xb)\n",
    "print(Xb.shape)\n",
    "Xb"
   ]
  },
  {
   "cell_type": "code",
   "execution_count": 25,
   "id": "37afb72b-a42e-4bad-ab00-deb235c3b9d0",
   "metadata": {},
   "outputs": [
    {
     "name": "stdout",
     "output_type": "stream",
     "text": [
      "Embedding : (4, 8, 10)\n",
      "FlattenConsecutive : (4, 4, 20)\n",
      "Linear : (4, 4, 68)\n",
      "BatchNorm1d : (4, 4, 68)\n",
      "Tanh : (4, 4, 68)\n",
      "FlattenConsecutive : (4, 2, 136)\n",
      "Linear : (4, 2, 68)\n",
      "BatchNorm1d : (4, 2, 68)\n",
      "Tanh : (4, 2, 68)\n",
      "FlattenConsecutive : (4, 136)\n",
      "Linear : (4, 68)\n",
      "BatchNorm1d : (4, 68)\n",
      "Tanh : (4, 68)\n",
      "Linear : (4, 33)\n"
     ]
    }
   ],
   "source": [
    "for layer in model.layers:\n",
    "    print(layer.__class__.__name__, \":\", tuple(layer.out.shape))"
   ]
  },
  {
   "cell_type": "code",
   "execution_count": 26,
   "id": "2169ad4d-e32e-44d1-baea-c3217088f635",
   "metadata": {},
   "outputs": [
    {
     "data": {
      "text/plain": [
       "torch.Size([1, 1, 68])"
      ]
     },
     "execution_count": 26,
     "metadata": {},
     "output_type": "execute_result"
    }
   ],
   "source": [
    "model.layers[3].running_mean.shape"
   ]
  },
  {
   "cell_type": "code",
   "execution_count": 195,
   "id": "48de7709-f97d-40c1-94a7-552335aa4808",
   "metadata": {},
   "outputs": [
    {
     "data": {
      "text/plain": [
       "torch.Size([4, 8, 10])"
      ]
     },
     "execution_count": 195,
     "metadata": {},
     "output_type": "execute_result"
    }
   ],
   "source": [
    "model.layers[0].out.shape # output of Embedding Layer"
   ]
  },
  {
   "cell_type": "code",
   "execution_count": 196,
   "id": "2c3a7c18-382d-4ae2-91af-82a539a4a469",
   "metadata": {},
   "outputs": [
    {
     "data": {
      "text/plain": [
       "torch.Size([4, 80])"
      ]
     },
     "execution_count": 196,
     "metadata": {},
     "output_type": "execute_result"
    }
   ],
   "source": [
    "model.layers[1].out.shape # output of Flatten Layer"
   ]
  },
  {
   "cell_type": "code",
   "execution_count": 197,
   "id": "8811f537-6fe4-4fe1-84ab-2371885e0cb8",
   "metadata": {},
   "outputs": [
    {
     "data": {
      "text/plain": [
       "torch.Size([4, 200])"
      ]
     },
     "execution_count": 197,
     "metadata": {},
     "output_type": "execute_result"
    }
   ],
   "source": [
    "model.layers[2].out.shape # output of Linear Layer"
   ]
  },
  {
   "cell_type": "code",
   "execution_count": 198,
   "id": "d029b8f9-a88b-43be-8777-8825f5b7f109",
   "metadata": {},
   "outputs": [
    {
     "data": {
      "text/plain": [
       "torch.Size([4, 4, 200])"
      ]
     },
     "execution_count": 198,
     "metadata": {},
     "output_type": "execute_result"
    }
   ],
   "source": [
    "(torch.randn(4, 4, 20) @ torch.randn(20, 200) + torch.randn(200)).shape"
   ]
  },
  {
   "cell_type": "code",
   "execution_count": 199,
   "id": "b6d175b5-6c5d-40d6-8051-a2fd4b725b22",
   "metadata": {},
   "outputs": [
    {
     "data": {
      "text/plain": [
       "torch.Size([4, 4, 20])"
      ]
     },
     "execution_count": 199,
     "metadata": {},
     "output_type": "execute_result"
    }
   ],
   "source": [
    "# (1 2) (3 4) (5 6) (7 8) --> group each pair of input characters into bigrams\n",
    "\n",
    "\n",
    "torch.randn(4, 8, 10).view(4,4,20).shape"
   ]
  },
  {
   "cell_type": "code",
   "execution_count": 200,
   "id": "40107af0-b479-470e-88a5-9939b0240dc0",
   "metadata": {},
   "outputs": [
    {
     "data": {
      "text/plain": [
       "[1, 3, 5, 7, 9]"
      ]
     },
     "execution_count": 200,
     "metadata": {},
     "output_type": "execute_result"
    }
   ],
   "source": [
    "list(range(10)[1::2])"
   ]
  },
  {
   "cell_type": "code",
   "execution_count": 201,
   "id": "22fca925-cea0-4488-8b26-b7ea86032ea3",
   "metadata": {},
   "outputs": [
    {
     "data": {
      "text/plain": [
       "torch.Size([4, 4, 20])"
      ]
     },
     "execution_count": 201,
     "metadata": {},
     "output_type": "execute_result"
    }
   ],
   "source": [
    "e = torch.randn(4, 8, 10) # goal: we want this to be (4, 4, 20) where consectuive 10-d vectors get concatenated\n",
    "explicit = torch.cat([e[:, ::2, :], e[:, 1::2, :]], dim=2)\n",
    "explicit.shape"
   ]
  },
  {
   "cell_type": "code",
   "execution_count": 202,
   "id": "e8591b52-05c9-4f7d-9365-10f47fb86fe6",
   "metadata": {},
   "outputs": [
    {
     "data": {
      "text/plain": [
       "tensor(True)"
      ]
     },
     "execution_count": 202,
     "metadata": {},
     "output_type": "execute_result"
    }
   ],
   "source": [
    "(e.view(4, 4, 20) == explicit).all()"
   ]
  },
  {
   "cell_type": "code",
   "execution_count": 203,
   "id": "cb18050c-274b-46d4-8330-d5f640217e09",
   "metadata": {},
   "outputs": [
    {
     "data": {
      "text/plain": [
       "True"
      ]
     },
     "execution_count": 203,
     "metadata": {},
     "output_type": "execute_result"
    }
   ],
   "source": [
    "torch.allclose(e.view(4,4,20), explicit)"
   ]
  },
  {
   "cell_type": "code",
   "execution_count": 204,
   "id": "aa01c220-4eb8-4208-8340-160386830f7b",
   "metadata": {},
   "outputs": [
    {
     "name": "stdout",
     "output_type": "stream",
     "text": [
      "B: 4,  T: 8 C: 10\n",
      "B_new: 4, T_new: 8, C_new: 10\n"
     ]
    }
   ],
   "source": [
    "n = 1\n",
    "B, T, C = e.shape\n",
    "\n",
    "print(f\"B: {B},  T: {T} C: {C}\")\n",
    "print(f\"B_new: {B}, T_new: {T//n}, C_new: {C*n}\")"
   ]
  },
  {
   "cell_type": "code",
   "execution_count": 211,
   "id": "f49489f7-d5f1-4501-b457-8a28dec22ae7",
   "metadata": {},
   "outputs": [
    {
     "name": "stdout",
     "output_type": "stream",
     "text": [
      "torch.Size([4, 8, 10])\n",
      "torch.Size([4, 80])\n"
     ]
    }
   ],
   "source": [
    "mod = Sequential([FlattenConsecutive(8)])\n",
    "\n",
    "print(e.shape)\n",
    "z = mod(e)\n",
    "print(z.shape)"
   ]
  },
  {
   "cell_type": "markdown",
   "id": "e3b98e80-ae94-4cbb-92e9-225ef42b235b",
   "metadata": {},
   "source": [
    "### Training loop"
   ]
  },
  {
   "cell_type": "code",
   "execution_count": 28,
   "id": "51ccd008-a4be-4e06-ab9d-f893ae7e36cd",
   "metadata": {},
   "outputs": [
    {
     "name": "stdout",
     "output_type": "stream",
     "text": [
      "      0/ 200000: 3.5067\n",
      "  10000/ 200000: 1.0498\n",
      "  20000/ 200000: 1.4374\n",
      "  30000/ 200000: 1.2118\n",
      "  40000/ 200000: 1.0207\n",
      "  50000/ 200000: 1.6218\n",
      "  60000/ 200000: 1.0789\n",
      "  70000/ 200000: 1.3740\n",
      "  80000/ 200000: 1.4373\n",
      "  90000/ 200000: 1.1631\n",
      " 100000/ 200000: 1.0353\n",
      " 110000/ 200000: 1.0415\n",
      " 120000/ 200000: 0.9800\n",
      " 130000/ 200000: 0.9925\n",
      " 140000/ 200000: 1.2923\n",
      " 150000/ 200000: 1.0685\n",
      " 160000/ 200000: 0.9735\n",
      " 170000/ 200000: 1.3277\n",
      " 180000/ 200000: 0.9041\n",
      " 190000/ 200000: 1.0761\n"
     ]
    }
   ],
   "source": [
    "max_steps = 200000\n",
    "batch_size = 32\n",
    "lossi = []\n",
    "\n",
    "for i in range(max_steps):\n",
    "\n",
    "    # Minibatch construct\n",
    "    ix = torch.randint(0, Xtr.shape[0], (batch_size,))\n",
    "    Xb, Yb = Xtr[ix], Ytr[ix] # batch X,Y\n",
    "    \n",
    "    # Forward pass\n",
    "    logits = model(Xb)  \n",
    "    loss = F.cross_entropy(logits, Yb) # loss function\n",
    "    \n",
    "    # Backward pass\n",
    "    for p in parameters:\n",
    "        p.grad = None\n",
    "    loss.backward()\n",
    "    \n",
    "    # Update: simple SGD\n",
    "    lr = 10**-1 if i < 150000 else 100**-1 # step learning rate decay\n",
    "    for p in parameters:\n",
    "        p.data += -lr * p.grad\n",
    "\n",
    "    # Track stats\n",
    "    if i % 10000 == 0:\n",
    "        print(f\"{i:7d}/{max_steps:7d}: {loss.item():.4f}\")\n",
    "    lossi.append(loss.log10().item())\n",
    "\n",
    "    # if i % 1000 == 0:\n",
    "    #     break"
   ]
  },
  {
   "cell_type": "code",
   "execution_count": 29,
   "id": "9389e2e0-34fc-4d55-ab63-0422e6d154c6",
   "metadata": {},
   "outputs": [
    {
     "data": {
      "image/png": "[encoded data removed]",
      "text/plain": [
       "<Figure size 640x480 with 1 Axes>"
      ]
     },
     "metadata": {},
     "output_type": "display_data"
    }
   ],
   "source": [
    "plt.plot(torch.tensor(lossi).view(-1,1000).mean(1))\n",
    "plt.show()"
   ]
  },
  {
   "cell_type": "code",
   "execution_count": 30,
   "id": "f33ce49b-52f3-42fb-9deb-eb26e1c2e919",
   "metadata": {},
   "outputs": [],
   "source": [
    "# put layers into eval-mode\n",
    "for layer in model.layers:\n",
    "    layer.training = False"
   ]
  },
  {
   "cell_type": "code",
   "execution_count": 31,
   "id": "6c82c033-65c9-4c5f-98b5-b27c2b6df15d",
   "metadata": {},
   "outputs": [
    {
     "name": "stdout",
     "output_type": "stream",
     "text": [
      "LAYER: FlattenConsecutive, TRAINABLE: False\n",
      "LAYER: Linear, TRAINABLE: False\n",
      "LAYER: BatchNorm1d, TRAINABLE: False\n",
      "LAYER: Tanh, TRAINABLE: False\n",
      "LAYER: FlattenConsecutive, TRAINABLE: False\n",
      "LAYER: Linear, TRAINABLE: False\n",
      "LAYER: BatchNorm1d, TRAINABLE: False\n",
      "LAYER: Tanh, TRAINABLE: False\n",
      "LAYER: FlattenConsecutive, TRAINABLE: False\n",
      "LAYER: Linear, TRAINABLE: False\n",
      "LAYER: BatchNorm1d, TRAINABLE: False\n",
      "LAYER: Tanh, TRAINABLE: False\n",
      "LAYER: Linear, TRAINABLE: False\n"
     ]
    }
   ],
   "source": [
    "for layer in model.layers:\n",
    "    if not isinstance(layer, Embedding):\n",
    "        print(f\"LAYER: {layer.__class__.__name__}, TRAINABLE: {layer.training if hasattr(layer, 'training') else 'N/A'}\")\n"
   ]
  },
  {
   "cell_type": "code",
   "execution_count": 32,
   "id": "29630006-cdce-493f-865c-b6c0d47de38a",
   "metadata": {},
   "outputs": [
    {
     "name": "stdout",
     "output_type": "stream",
     "text": [
      "train 1.1313610076904297\n",
      "val 2.3718950748443604\n"
     ]
    }
   ],
   "source": [
    "@torch.no_grad() # this decorator disables gradient tracking\n",
    "def split_loss(split):\n",
    "    x,y = {\n",
    "        'train': (Xtr, Ytr),\n",
    "        'val': (Xdev, Ydev),\n",
    "        'test': (Xte, Yte),\n",
    "    }[split]\n",
    "    logits = model(x)\n",
    "    loss = F.cross_entropy(logits, y) # loss function\n",
    "    print(split, loss.item())\n",
    "\n",
    "split_loss('train')\n",
    "split_loss('val')"
   ]
  },
  {
   "cell_type": "markdown",
   "id": "f76fdaaf-eb9c-4b4e-94da-4e88627db955",
   "metadata": {},
   "source": [
    "### Performance Log\n",
    "\n",
    "**Standard MLP blcok size 8:** train: 1.3966, val: 2.1612\n",
    "\n",
    "**Wavenet 22K parameters:** train 1.1641, val: 2.2088\n",
    "\n",
    "**Wavenet 77K parameters:** train 1.1314, val: 2.3719"
   ]
  },
  {
   "cell_type": "markdown",
   "id": "b371651f-a1f5-4dd1-98bf-7ae730a689e8",
   "metadata": {},
   "source": [
    "## Drawing sample names "
   ]
  },
  {
   "cell_type": "code",
   "execution_count": 19,
   "id": "ccfc1266-6369-4654-92ef-97bf1d03d8e4",
   "metadata": {},
   "outputs": [
    {
     "name": "stdout",
     "output_type": "stream",
     "text": [
      "sirpa.\n",
      "gyrin.\n",
      "adelhelen.\n",
      "rebecka.\n",
      "daniele.\n",
      "renata.\n",
      "juli.\n",
      "sigbjørg.\n",
      "davida.\n",
      "mette.\n",
      "vinnie.\n",
      "borgunn.\n",
      "mary.\n",
      "gjertrude.\n",
      "josie.\n",
      "yolanda.\n",
      "siana.\n",
      "inghild.\n",
      "signora.\n",
      "suzan.\n"
     ]
    }
   ],
   "source": [
    "\n",
    "for _ in range(20):\n",
    "    out = []\n",
    "    context = [0] * block_size # intialize with all ...\n",
    "    while True:\n",
    "        logits = model(torch.tensor([context]))\n",
    "        probs = F.softmax(logits, dim=1)\n",
    "        \n",
    "        # sample from the distribution\n",
    "        ix = torch.multinomial(probs, num_samples=1).item() \n",
    "\n",
    "        # shift the context window and track the samples\n",
    "        context = context[1:] + [ix] \n",
    "        out.append(ix)\n",
    "        \n",
    "        # if samples special character \".\" -> break\n",
    "        if ix == 0: \n",
    "            break\n",
    "    print(\"\".join(itos[i] for i in out))"
   ]
  },
  {
   "cell_type": "code",
   "execution_count": 20,
   "id": "07539c48-f2c3-473b-b513-3fed63b69673",
   "metadata": {},
   "outputs": [
    {
     "data": {
      "text/plain": [
       "['emilie', 'emilija', 'amilia', 'milica', 'emili', 'amilie', 'emilia']"
      ]
     },
     "execution_count": 20,
     "metadata": {},
     "output_type": "execute_result"
    }
   ],
   "source": [
    "[name for name in words if \"mili\" in name]"
   ]
  },
  {
   "cell_type": "markdown",
   "id": "641c9fa5-13f6-47ae-8562-9ada364aa611",
   "metadata": {},
   "source": [
    "### Next time:\n",
    "\n",
    "Why convolutions? Brief preview/hint"
   ]
  },
  {
   "cell_type": "code",
   "execution_count": 21,
   "id": "e882da1e-16a5-4811-ae81-fa7f07ab70a0",
   "metadata": {},
   "outputs": [
    {
     "name": "stdout",
     "output_type": "stream",
     "text": [
      "........ --> n\n",
      ".......n --> o\n",
      "......no --> r\n",
      ".....nor --> v\n",
      "....norv --> e\n",
      "...norve --> i\n",
      "..norvei --> g\n",
      ".norveig --> .\n"
     ]
    }
   ],
   "source": [
    "for x,y in zip(Xtr[12:20], Ytr[12:20]):\n",
    "    print(\"\".join(itos[ix.item()] for ix in x), '-->', itos[y.item()])"
   ]
  },
  {
   "cell_type": "code",
   "execution_count": 22,
   "id": "dd4ff2d6-d4c3-417d-8204-d3a6c1356772",
   "metadata": {},
   "outputs": [
    {
     "data": {
      "text/plain": [
       "torch.Size([1, 33])"
      ]
     },
     "execution_count": 22,
     "metadata": {},
     "output_type": "execute_result"
    }
   ],
   "source": [
    "# forward pass a single example:\n",
    "logits = model(Xtr[[12]])\n",
    "logits.shape"
   ]
  },
  {
   "cell_type": "code",
   "execution_count": 23,
   "id": "92f493e1-9131-478d-ba61-8c230a1a8b83",
   "metadata": {},
   "outputs": [
    {
     "data": {
      "text/plain": [
       "torch.Size([8, 33])"
      ]
     },
     "execution_count": 23,
     "metadata": {},
     "output_type": "execute_result"
    }
   ],
   "source": [
    "# forward all of them\n",
    "logits = torch.zeros(8, 33)\n",
    "for i in range(8):\n",
    "    logits[i] = model(Xtr[[12 + i]])\n",
    "logits.shape"
   ]
  },
  {
   "cell_type": "code",
   "execution_count": null,
   "id": "f6d00109-8a1d-4f1f-9a4e-a7ea12458bac",
   "metadata": {},
   "outputs": [],
   "source": [
    "# Convolution is a \"for loop\" (in the CUDA kernel)\n",
    "# allows us to forward Linear layers efficiently over space"
   ]
  }
 ],
 "metadata": {
  "kernelspec": {
   "display_name": "workproject",
   "language": "python",
   "name": "workproject"
  },
  "language_info": {
   "codemirror_mode": {
    "name": "ipython",
    "version": 3
   },
   "file_extension": ".py",
   "mimetype": "text/x-python",
   "name": "python",
   "nbconvert_exporter": "python",
   "pygments_lexer": "ipython3",
   "version": "3.11.9"
  }
 },
 "nbformat": 4,
 "nbformat_minor": 5
}
