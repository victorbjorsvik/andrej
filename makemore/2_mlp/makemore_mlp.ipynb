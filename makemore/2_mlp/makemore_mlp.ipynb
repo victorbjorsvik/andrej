{
 "cells": [
  {
   "cell_type": "code",
   "execution_count": 155,
   "id": "fee9eb54-a112-490e-af39-1c37e8df7330",
   "metadata": {},
   "outputs": [],
   "source": [
    "import torch\n",
    "import torch.nn.functional as F\n",
    "import matplotlib.pyplot as plt\n",
    "%matplotlib inline"
   ]
  },
  {
   "cell_type": "code",
   "execution_count": 24,
   "id": "282b97b1-5494-4a38-9e67-2f76f2e0b8e1",
   "metadata": {},
   "outputs": [
    {
     "name": "stdout",
     "output_type": "stream",
     "text": [
      "boy_names.txt\n",
      "girl_names.txt\n",
      "navn.py\n"
     ]
    }
   ],
   "source": [
    "%%bash \n",
    "ls .\\/nameses"
   ]
  },
  {
   "cell_type": "code",
   "execution_count": 39,
   "id": "d57045ca-36f2-437c-8832-de8536db3c2b",
   "metadata": {},
   "outputs": [
    {
     "data": {
      "text/plain": [
       "['abel', 'abelone', 'abigael', 'abigail', 'ada', 'adela', 'adelaide', 'adele']"
      ]
     },
     "execution_count": 39,
     "metadata": {},
     "output_type": "execute_result"
    }
   ],
   "source": [
    "words = open(\"nameses/girl_names.txt\", \"r\").read().splitlines()\n",
    "words = [word.lower() for word in words]\n",
    "words[:8]"
   ]
  },
  {
   "cell_type": "code",
   "execution_count": 40,
   "id": "53dfc396-0e05-4f13-bb1b-d96a0f91c104",
   "metadata": {},
   "outputs": [
    {
     "data": {
      "text/plain": [
       "3046"
      ]
     },
     "execution_count": 40,
     "metadata": {},
     "output_type": "execute_result"
    }
   ],
   "source": [
    "len(words)"
   ]
  },
  {
   "cell_type": "code",
   "execution_count": 45,
   "id": "8ffc6ae5-c49d-4566-a763-d7ab910932e7",
   "metadata": {},
   "outputs": [],
   "source": [
    "# Building out vocabulary\n",
    "chars = sorted(list(set(\"\".join(words))))\n",
    "stoi = {s:i+1 for i,s in enumerate(chars)}\n",
    "stoi[\".\"] = 0\n",
    "itos = {i:s for s,i in stoi.items()}"
   ]
  },
  {
   "cell_type": "code",
   "execution_count": 49,
   "id": "15460daf-8598-4477-9bb5-4cccd4a606b1",
   "metadata": {},
   "outputs": [
    {
     "data": {
      "text/plain": [
       "[0, 0, 0]"
      ]
     },
     "execution_count": 49,
     "metadata": {},
     "output_type": "execute_result"
    }
   ],
   "source": [
    "[0] * block_size"
   ]
  },
  {
   "cell_type": "code",
   "execution_count": 268,
   "id": "e553e196-99f7-4d2e-8878-0fdba08c19be",
   "metadata": {},
   "outputs": [],
   "source": [
    "# Building out the dataset\n",
    "\n",
    "block_size = 3 # context length: how many characters do we take to predict the next one\n",
    "X, Y = [], []\n",
    "for w in words:\n",
    "\n",
    "    # print(w)\n",
    "    context = [0] * block_size\n",
    "    for ch in w + \".\":\n",
    "        ix = stoi[ch]\n",
    "        X.append(context)\n",
    "        Y.append(ix)\n",
    "        # print(\"\".join(itos[i] for i in context), \"--->\", itos[ix])\n",
    "        context = context[1:] + [ix] # crop and append\n",
    "\n",
    "X = torch.tensor(X)\n",
    "Y = torch.tensor(Y)"
   ]
  },
  {
   "cell_type": "code",
   "execution_count": 349,
   "id": "8dc8a8d5-6335-43ad-846f-bdd35b8cbd4e",
   "metadata": {},
   "outputs": [
    {
     "name": "stdout",
     "output_type": "stream",
     "text": [
      "torch.Size([16990, 3]) torch.Size([16990])\n",
      "torch.Size([2119, 3]) torch.Size([2119])\n",
      "torch.Size([2120, 3]) torch.Size([2120])\n"
     ]
    }
   ],
   "source": [
    "# Buliding the dataset with splits\n",
    "\n",
    "def build_dataset(words):\n",
    "    block_size = 3 # context length: how many characters do we take to predict the next one\n",
    "    X, Y = [], []\n",
    "    for w in words:\n",
    "        context = [0] * block_size\n",
    "        for ch in w + \".\":\n",
    "            ix = stoi[ch]\n",
    "            X.append(context)\n",
    "            Y.append(ix)\n",
    "            context = context[1:] + [ix] # crop and append\n",
    "    X = torch.tensor(X)\n",
    "    Y = torch.tensor(Y)\n",
    "    print(X.shape, Y.shape)\n",
    "    return X, Y\n",
    "\n",
    "import random\n",
    "random.seed(42)\n",
    "random.shuffle(words)\n",
    "n1 = int(0.8*len(words))\n",
    "n2 = int(0.9*len(words))\n",
    "\n",
    "Xtr, Ytr = build_dataset(words[:n1])\n",
    "Xdev, Ydev = build_dataset(words[n1:n2])\n",
    "Xte, Yte = build_dataset(words[n2:])"
   ]
  },
  {
   "cell_type": "code",
   "execution_count": 180,
   "id": "71125efa-9bae-44a2-9175-eef41bbe1ff9",
   "metadata": {},
   "outputs": [
    {
     "data": {
      "text/plain": [
       "(torch.Size([21229, 3]), torch.int64, torch.Size([21229]), torch.int64)"
      ]
     },
     "execution_count": 180,
     "metadata": {},
     "output_type": "execute_result"
    }
   ],
   "source": [
    "X.shape, X.dtype, Y.shape, Y.dtype"
   ]
  },
  {
   "cell_type": "code",
   "execution_count": 53,
   "id": "c2f434ea-bff0-4e39-bfd4-cd7c814f7ecd",
   "metadata": {},
   "outputs": [],
   "source": [
    "C = torch.randn((33,2))"
   ]
  },
  {
   "cell_type": "code",
   "execution_count": 55,
   "id": "d94ba420-2942-4638-a7e0-ee073f96ed08",
   "metadata": {},
   "outputs": [
    {
     "data": {
      "text/plain": [
       "tensor([-2.5148,  1.2348])"
      ]
     },
     "execution_count": 55,
     "metadata": {},
     "output_type": "execute_result"
    }
   ],
   "source": [
    "C[5]"
   ]
  },
  {
   "cell_type": "code",
   "execution_count": 64,
   "id": "34ebc4f5-7c57-471b-a197-76a3b63655ca",
   "metadata": {},
   "outputs": [
    {
     "data": {
      "text/plain": [
       "tensor([-2.5148,  1.2348])"
      ]
     },
     "execution_count": 64,
     "metadata": {},
     "output_type": "execute_result"
    }
   ],
   "source": [
    "# indexing is the same as one_hot matmuls -> Q.E.D\n",
    "F.one_hot(torch.tensor(5), num_classes=33).float() @ C"
   ]
  },
  {
   "cell_type": "code",
   "execution_count": 69,
   "id": "47b2174e-ec1c-451f-8ae7-b1b56d787ca5",
   "metadata": {},
   "outputs": [
    {
     "data": {
      "text/plain": [
       "torch.Size([33, 3, 2])"
      ]
     },
     "execution_count": 69,
     "metadata": {},
     "output_type": "execute_result"
    }
   ],
   "source": [
    "# We can use tensors and lists to index tensors (look at cells below)\n",
    "C[X].shape"
   ]
  },
  {
   "cell_type": "code",
   "execution_count": 70,
   "id": "116b0290-fd21-4773-804e-36ab76c4a3ce",
   "metadata": {},
   "outputs": [
    {
     "data": {
      "text/plain": [
       "tensor(0)"
      ]
     },
     "execution_count": 70,
     "metadata": {},
     "output_type": "execute_result"
    }
   ],
   "source": [
    "X[13,2]"
   ]
  },
  {
   "cell_type": "code",
   "execution_count": 71,
   "id": "fd7040e6-0448-433d-bbc8-3927dfc5b6e4",
   "metadata": {},
   "outputs": [
    {
     "data": {
      "text/plain": [
       "tensor([-0.8028, -1.1997])"
      ]
     },
     "execution_count": 71,
     "metadata": {},
     "output_type": "execute_result"
    }
   ],
   "source": [
    "C[X][13,2]"
   ]
  },
  {
   "cell_type": "code",
   "execution_count": 72,
   "id": "e79d80a3-d5d9-4be1-9ef2-de8b35699f19",
   "metadata": {},
   "outputs": [
    {
     "data": {
      "text/plain": [
       "tensor([-0.8028, -1.1997])"
      ]
     },
     "execution_count": 72,
     "metadata": {},
     "output_type": "execute_result"
    }
   ],
   "source": [
    "C[0]"
   ]
  },
  {
   "cell_type": "code",
   "execution_count": 73,
   "id": "5760cc1a-197f-4c01-9dc6-5aae0648d5e4",
   "metadata": {},
   "outputs": [
    {
     "data": {
      "text/plain": [
       "torch.Size([33, 3, 2])"
      ]
     },
     "execution_count": 73,
     "metadata": {},
     "output_type": "execute_result"
    }
   ],
   "source": [
    "# Let's create the embeddings\n",
    "emb = C[X]\n",
    "emb.shape"
   ]
  },
  {
   "cell_type": "code",
   "execution_count": 107,
   "id": "ffb7fa9f-a700-400e-9340-ac0919def149",
   "metadata": {},
   "outputs": [],
   "source": [
    "W1 = torch.randn((6, 100))\n",
    "b1 = torch.randn(100)"
   ]
  },
  {
   "cell_type": "code",
   "execution_count": 77,
   "id": "7234d0f5-c10a-49a1-8fe7-115692ce9022",
   "metadata": {},
   "outputs": [
    {
     "ename": "RuntimeError",
     "evalue": "mat1 and mat2 shapes cannot be multiplied (99x2 and 6x100)",
     "output_type": "error",
     "traceback": [
      "\u001b[1;31m---------------------------------------------------------------------------\u001b[0m",
      "\u001b[1;31mRuntimeError\u001b[0m                              Traceback (most recent call last)",
      "Cell \u001b[1;32mIn[77], line 1\u001b[0m\n\u001b[1;32m----> 1\u001b[0m emb \u001b[38;5;241m@\u001b[39m W1 \u001b[38;5;241m+\u001b[39m b1\n",
      "\u001b[1;31mRuntimeError\u001b[0m: mat1 and mat2 shapes cannot be multiplied (99x2 and 6x100)"
     ]
    }
   ],
   "source": [
    "emb @ W1 + b1"
   ]
  },
  {
   "cell_type": "markdown",
   "id": "bb27c139-ba62-485d-bb24-af2593cb983f",
   "metadata": {},
   "source": [
    "### Concatinating the embeddings of input of size (block_size)"
   ]
  },
  {
   "cell_type": "code",
   "execution_count": 90,
   "id": "0196db9a-08d3-44a1-be22-1e2c20a1facc",
   "metadata": {},
   "outputs": [
    {
     "data": {
      "text/plain": [
       "torch.Size([33, 6])"
      ]
     },
     "execution_count": 90,
     "metadata": {},
     "output_type": "execute_result"
    }
   ],
   "source": [
    "# Method 1: Weak becuase changing the block size will fuck up the logic\n",
    "torch.cat([emb[:,0,:], emb[:,1,:], emb[:,2,:]], 1).shape"
   ]
  },
  {
   "cell_type": "code",
   "execution_count": 89,
   "id": "2c0c214d-62dd-4797-80a5-9aa742d322fc",
   "metadata": {},
   "outputs": [
    {
     "data": {
      "text/plain": [
       "torch.Size([33, 6])"
      ]
     },
     "execution_count": 89,
     "metadata": {},
     "output_type": "execute_result"
    }
   ],
   "source": [
    "# Method 2: Ok, but computationally and storage expensive\n",
    "torch.cat(torch.unbind(emb, 1), 1).shape"
   ]
  },
  {
   "cell_type": "code",
   "execution_count": 92,
   "id": "00a8df0f-5008-4052-9441-5a3eadf6aae5",
   "metadata": {},
   "outputs": [
    {
     "data": {
      "text/plain": [
       "tensor([ 0,  1,  2,  3,  4,  5,  6,  7,  8,  9, 10, 11, 12, 13, 14, 15, 16, 17])"
      ]
     },
     "execution_count": 92,
     "metadata": {},
     "output_type": "execute_result"
    }
   ],
   "source": [
    "a = torch.arange(18)\n",
    "a"
   ]
  },
  {
   "cell_type": "code",
   "execution_count": 93,
   "id": "f4c330df-5c6f-4a3f-93ff-ff3fdf45faa1",
   "metadata": {},
   "outputs": [
    {
     "data": {
      "text/plain": [
       "torch.Size([18])"
      ]
     },
     "execution_count": 93,
     "metadata": {},
     "output_type": "execute_result"
    }
   ],
   "source": [
    "a.shape"
   ]
  },
  {
   "cell_type": "code",
   "execution_count": 96,
   "id": "db38975f-fa20-44c8-be7d-16443b47249c",
   "metadata": {},
   "outputs": [
    {
     "data": {
      "text/plain": [
       "tensor([[[ 0,  1],\n",
       "         [ 2,  3],\n",
       "         [ 4,  5]],\n",
       "\n",
       "        [[ 6,  7],\n",
       "         [ 8,  9],\n",
       "         [10, 11]],\n",
       "\n",
       "        [[12, 13],\n",
       "         [14, 15],\n",
       "         [16, 17]]])"
      ]
     },
     "execution_count": 96,
     "metadata": {},
     "output_type": "execute_result"
    }
   ],
   "source": [
    "a.view(3, 3, 2)"
   ]
  },
  {
   "cell_type": "code",
   "execution_count": 100,
   "id": "71a98235-f82b-4bcd-970e-06095e343d52",
   "metadata": {},
   "outputs": [
    {
     "data": {
      "text/plain": [
       " 0\n",
       " 1\n",
       " 2\n",
       " 3\n",
       " 4\n",
       " 5\n",
       " 6\n",
       " 7\n",
       " 8\n",
       " 9\n",
       " 10\n",
       " 11\n",
       " 12\n",
       " 13\n",
       " 14\n",
       " 15\n",
       " 16\n",
       " 17\n",
       "[torch.storage.TypedStorage(dtype=torch.int64, device=cpu) of size 18]"
      ]
     },
     "execution_count": 100,
     "metadata": {},
     "output_type": "execute_result"
    }
   ],
   "source": [
    "a.storage()"
   ]
  },
  {
   "cell_type": "code",
   "execution_count": 101,
   "id": "28436612-353f-4bd9-aaf0-3e16b70d0930",
   "metadata": {},
   "outputs": [
    {
     "data": {
      "text/plain": [
       "torch.Size([33, 3, 2])"
      ]
     },
     "execution_count": 101,
     "metadata": {},
     "output_type": "execute_result"
    }
   ],
   "source": [
    "emb.shape"
   ]
  },
  {
   "cell_type": "code",
   "execution_count": 105,
   "id": "43f3519b-76f7-4258-9a99-29250cf75917",
   "metadata": {},
   "outputs": [
    {
     "data": {
      "text/plain": [
       "True"
      ]
     },
     "execution_count": 105,
     "metadata": {},
     "output_type": "execute_result"
    }
   ],
   "source": [
    "# Method 3: Optimal as we only change our representation of the stored bytes, not the bytes themselves\n",
    "torch.allclose(emb.view(33,6), torch.cat(torch.unbind(emb, 1), 1))"
   ]
  },
  {
   "cell_type": "code",
   "execution_count": 114,
   "id": "939e1543-3c86-4485-a617-acc5f4a09d45",
   "metadata": {},
   "outputs": [
    {
     "data": {
      "text/plain": [
       "torch.Size([33, 100])"
      ]
     },
     "execution_count": 114,
     "metadata": {},
     "output_type": "execute_result"
    }
   ],
   "source": [
    "# Trying to calculate hidden state again\n",
    "h = torch.tanh(emb.view(-1,6) @ W1 + b1) #emb.view(emb.shape[0],6) @ W1 + b1\n",
    "h.shape"
   ]
  },
  {
   "cell_type": "code",
   "execution_count": 113,
   "id": "4d8ceb2b-4d90-47cb-bb02-cd0a90c2c8c8",
   "metadata": {},
   "outputs": [
    {
     "data": {
      "text/plain": [
       "tensor([[-0.9918, -0.8223, -0.8321,  ..., -0.7529,  0.9977, -0.8282],\n",
       "        [-0.9548, -0.9531,  0.3691,  ...,  0.9606,  0.9970, -0.9724],\n",
       "        [-0.9053, -0.8152, -0.9907,  ..., -0.9998,  0.8315, -0.9801],\n",
       "        ...,\n",
       "        [-0.9548, -0.9531,  0.3691,  ...,  0.9606,  0.9970, -0.9724],\n",
       "        [ 0.0499,  0.2827, -0.9477,  ..., -0.9765,  0.7579, -0.8319],\n",
       "        [-0.1871, -0.2498,  0.4335,  ...,  0.9866,  0.5721, -0.5995]])"
      ]
     },
     "execution_count": 113,
     "metadata": {},
     "output_type": "execute_result"
    }
   ],
   "source": [
    "h"
   ]
  },
  {
   "cell_type": "code",
   "execution_count": 115,
   "id": "232a42ca-3d74-43df-a7e8-fbc58134538e",
   "metadata": {},
   "outputs": [],
   "source": [
    "W2 = torch.randn((100, 33))\n",
    "b2 = torch.randn(33)"
   ]
  },
  {
   "cell_type": "code",
   "execution_count": 116,
   "id": "91a6e46f-84d2-4395-9cc2-9d099829e643",
   "metadata": {},
   "outputs": [],
   "source": [
    "logits = h @ W2 + b2"
   ]
  },
  {
   "cell_type": "code",
   "execution_count": 117,
   "id": "3a61d29f-b226-4c3b-839c-df1f2a9b9f8c",
   "metadata": {},
   "outputs": [
    {
     "data": {
      "text/plain": [
       "torch.Size([33, 33])"
      ]
     },
     "execution_count": 117,
     "metadata": {},
     "output_type": "execute_result"
    }
   ],
   "source": [
    "logits.shape"
   ]
  },
  {
   "cell_type": "code",
   "execution_count": 118,
   "id": "920a1c28-b722-4810-a061-0387a8382d09",
   "metadata": {},
   "outputs": [
    {
     "data": {
      "text/plain": [
       "tensor([[-19.1274,   9.6867,   4.1302,  ...,   0.2290,   1.9382,  -5.9316],\n",
       "        [  3.3393,  16.5935,   7.1666,  ...,  10.6422,   7.3879,   4.3723],\n",
       "        [-13.9569,   4.2667,  -9.8416,  ...,   4.2098,  -4.6588, -11.1039],\n",
       "        ...,\n",
       "        [  3.3393,  16.5935,   7.1666,  ...,  10.6422,   7.3879,   4.3723],\n",
       "        [-11.3697,  15.0969,   4.2187,  ...,  -3.3436,   5.2014,   0.7982],\n",
       "        [ 15.7702,   4.9540,   5.3367,  ...,   4.3279,   1.5666,   4.4488]])"
      ]
     },
     "execution_count": 118,
     "metadata": {},
     "output_type": "execute_result"
    }
   ],
   "source": [
    "logits"
   ]
  },
  {
   "cell_type": "code",
   "execution_count": 119,
   "id": "5d85f998-92d9-479c-acfd-5f3f7c694431",
   "metadata": {},
   "outputs": [],
   "source": [
    "counts = logits.exp()"
   ]
  },
  {
   "cell_type": "code",
   "execution_count": 120,
   "id": "d8d5ca20-a052-4170-9b83-c05318b5e40c",
   "metadata": {},
   "outputs": [],
   "source": [
    "prob = counts / counts.sum(1, keepdims=True)"
   ]
  },
  {
   "cell_type": "code",
   "execution_count": 122,
   "id": "30a5d75f-929f-446f-b353-c520ca521ed4",
   "metadata": {},
   "outputs": [
    {
     "data": {
      "text/plain": [
       "torch.Size([33, 33])"
      ]
     },
     "execution_count": 122,
     "metadata": {},
     "output_type": "execute_result"
    }
   ],
   "source": [
    "prob.shape"
   ]
  },
  {
   "cell_type": "code",
   "execution_count": 125,
   "id": "f17c3028-1e00-4524-a99e-5a4d86bc1cfa",
   "metadata": {},
   "outputs": [
    {
     "data": {
      "text/plain": [
       "tensor(33.)"
      ]
     },
     "execution_count": 125,
     "metadata": {},
     "output_type": "execute_result"
    }
   ],
   "source": [
    "prob[:].sum()"
   ]
  },
  {
   "cell_type": "code",
   "execution_count": 128,
   "id": "7613bffe-b4fc-4661-8027-89845ce2e020",
   "metadata": {},
   "outputs": [
    {
     "data": {
      "text/plain": [
       "tensor([5.2565e-06, 4.9050e-06, 2.2710e-12, 3.3854e-04, 2.3928e-18, 5.2565e-06,\n",
       "        4.9050e-06, 2.2710e-12, 3.3854e-04, 1.9766e-07, 1.3890e-05, 6.9025e-11,\n",
       "        2.3602e-12, 5.2565e-06, 4.9050e-06, 7.5031e-11, 4.1883e-08, 2.0454e-05,\n",
       "        2.6623e-09, 1.9434e-10, 8.6523e-12, 5.2565e-06, 4.9050e-06, 7.5031e-11,\n",
       "        4.1883e-08, 2.0454e-05, 3.3433e-12, 1.1385e-04, 2.8025e-08, 5.2565e-06,\n",
       "        3.3715e-05, 5.2997e-05, 1.3950e-01])"
      ]
     },
     "execution_count": 128,
     "metadata": {},
     "output_type": "execute_result"
    }
   ],
   "source": [
    "prob[torch.arange(33), Y]"
   ]
  },
  {
   "cell_type": "code",
   "execution_count": 130,
   "id": "dc605cfd-6245-4da3-903b-8fada5d3fc08",
   "metadata": {},
   "outputs": [
    {
     "data": {
      "text/plain": [
       "tensor(16.4070)"
      ]
     },
     "execution_count": 130,
     "metadata": {},
     "output_type": "execute_result"
    }
   ],
   "source": [
    "loss = -prob[torch.arange(33), Y].log().mean()\n",
    "loss"
   ]
  },
  {
   "cell_type": "markdown",
   "id": "c1450c2d-f704-4032-8d70-80c7e11b3394",
   "metadata": {},
   "source": [
    "## Main code"
   ]
  },
  {
   "cell_type": "code",
   "execution_count": 131,
   "id": "cf3d8f77-7121-4ee8-a23e-e29a95c842f8",
   "metadata": {},
   "outputs": [],
   "source": [
    "# ---------- Let's make this a little cleaner :) ----------"
   ]
  },
  {
   "cell_type": "code",
   "execution_count": 300,
   "id": "2af7c4b0-ffca-4679-86e2-674445acd55d",
   "metadata": {},
   "outputs": [
    {
     "data": {
      "text/plain": [
       "(torch.Size([17019, 3]), torch.Size([17019]))"
      ]
     },
     "execution_count": 300,
     "metadata": {},
     "output_type": "execute_result"
    }
   ],
   "source": [
    "Xtr.shape, Ytr.shape # data"
   ]
  },
  {
   "cell_type": "code",
   "execution_count": 350,
   "id": "18066862-02a6-476e-8c75-4fdf4e7521f6",
   "metadata": {},
   "outputs": [],
   "source": [
    "g = torch.Generator().manual_seed(2147483647) # For reproducibility\n",
    "C = torch.randn((33, 10), generator=g)\n",
    "W1 = torch.randn((30, 200), generator=g)\n",
    "b1 = torch.randn(200, generator=g)\n",
    "W2 = torch.randn((200, 33), generator=g)\n",
    "b2 = torch.randn(33, generator=g)\n",
    "parameters = [C, W1, b1, W2, b2]"
   ]
  },
  {
   "cell_type": "code",
   "execution_count": 351,
   "id": "f87b6a80-82aa-4f3b-88d7-11ed272fa660",
   "metadata": {},
   "outputs": [
    {
     "data": {
      "text/plain": [
       "13163"
      ]
     },
     "execution_count": 351,
     "metadata": {},
     "output_type": "execute_result"
    }
   ],
   "source": [
    "sum(p.nelement() for p in parameters) # number of total parameters"
   ]
  },
  {
   "cell_type": "code",
   "execution_count": 352,
   "id": "be7d7c28-1a64-4ea9-8384-337bc6f7a492",
   "metadata": {},
   "outputs": [],
   "source": [
    "for p in parameters:\n",
    "    p.requires_grad = True"
   ]
  },
  {
   "cell_type": "code",
   "execution_count": 353,
   "id": "10912956-7445-4e3d-813c-188a26698443",
   "metadata": {},
   "outputs": [],
   "source": [
    "lri = []\n",
    "lossi = []\n",
    "stepi = []"
   ]
  },
  {
   "cell_type": "code",
   "execution_count": 360,
   "id": "51ccd008-a4be-4e06-ab9d-f893ae7e36cd",
   "metadata": {},
   "outputs": [
    {
     "name": "stdout",
     "output_type": "stream",
     "text": [
      "1.6457486152648926\n"
     ]
    }
   ],
   "source": [
    "for i in range(50000):\n",
    "\n",
    "    # Minibatch construct\n",
    "    ix = torch.randint(0, Xtr.shape[0], (32,))\n",
    "    \n",
    "    # Forward pass\n",
    "    emb = C[Xtr[ix]] # (33, 3, 2)\n",
    "    h = torch.tanh(emb.view(-1, 30) @ W1 + b1) # (33, 100)\n",
    "    logits = h @ W2 + b2 # (33, 33)\n",
    "    # counts = logits.exp()\n",
    "    # prob = counts / counts.sum(1, keepdims=True)\n",
    "    # loss = -prob[torch.arange(33), Y].log().mean()\n",
    "    loss = F.cross_entropy(logits, Ytr[ix])\n",
    "    \n",
    "    \n",
    "    # Backward pass\n",
    "    for p in parameters:\n",
    "        p.grad = None\n",
    "    loss.backward()\n",
    "    \n",
    "    # Update\n",
    "    lr = 100**-1\n",
    "    for p in parameters:\n",
    "        p.data += -lr * p.grad\n",
    "\n",
    "    # Track stats\n",
    "    # lri.append(lre[i])\n",
    "    stepi.append(i)\n",
    "    lossi.append(loss.log10().item())\n",
    "\n",
    "print(loss.item())"
   ]
  },
  {
   "cell_type": "code",
   "execution_count": 361,
   "id": "87da7d11-fcd3-45b2-b4ff-30e0c6a6b751",
   "metadata": {},
   "outputs": [
    {
     "data": {
      "image/png": "[encoded data removed]",
      "text/plain": [
       "<Figure size 640x480 with 1 Axes>"
      ]
     },
     "metadata": {},
     "output_type": "display_data"
    }
   ],
   "source": [
    "plt.plot(stepi, lossi)\n",
    "plt.show()"
   ]
  },
  {
   "cell_type": "code",
   "execution_count": 362,
   "id": "d42e1d38-9ca0-4203-b74f-3807220c2297",
   "metadata": {},
   "outputs": [
    {
     "name": "stdout",
     "output_type": "stream",
     "text": [
      "1.6719459295272827\n"
     ]
    }
   ],
   "source": [
    "# Estimate loss for the train set\n",
    "emb = C[Xtr] # (33, 3, 2)\n",
    "h = torch.tanh(emb.view(-1, 30) @ W1 + b1) # (33, 100)\n",
    "logits = h @ W2 + b2 # (33, 33)\n",
    "loss = F.cross_entropy(logits, Ytr)\n",
    "print(loss.item())"
   ]
  },
  {
   "cell_type": "code",
   "execution_count": 363,
   "id": "e73e2a31-e7bb-41ec-a98f-bfe980396dca",
   "metadata": {},
   "outputs": [
    {
     "name": "stdout",
     "output_type": "stream",
     "text": [
      "2.519286632537842\n"
     ]
    }
   ],
   "source": [
    "# Estimate loss for the dev set\n",
    "emb = C[Xdev] # (33, 3, 2)\n",
    "h = torch.tanh(emb.view(-1, 30) @ W1 + b1) # (33, 100)\n",
    "logits = h @ W2 + b2 # (33, 33)\n",
    "loss = F.cross_entropy(logits, Ydev)\n",
    "print(loss.item())"
   ]
  },
  {
   "cell_type": "code",
   "execution_count": 347,
   "id": "e4cec367-1268-4146-a17c-02521cf49bac",
   "metadata": {},
   "outputs": [
    {
     "data": {
      "image/png": "[encoded data removed]",
      "text/plain": [
       "<Figure size 800x800 with 1 Axes>"
      ]
     },
     "metadata": {},
     "output_type": "display_data"
    }
   ],
   "source": [
    "# plot 2-d embeddings\n",
    "plt.figure(figsize=(8,8))\n",
    "plt.scatter(C[:,0].data, C[:,1].data, s=200)\n",
    "for i in range(C.shape[0]):\n",
    "    plt.text(C[i,0].item(), C[i,1].item(), itos[i], ha=\"center\", va=\"center\", color=\"white\")\n",
    "plt.grid(\"minor\")\n",
    "plt.show();"
   ]
  },
  {
   "cell_type": "markdown",
   "id": "a8cbb0ad-72ea-40b9-a6ff-2a3a0ce18d6f",
   "metadata": {},
   "source": [
    "## Finding the right learning rate"
   ]
  },
  {
   "cell_type": "code",
   "execution_count": 304,
   "id": "f9c45dd7-7953-47a6-a6bf-73b191379d31",
   "metadata": {},
   "outputs": [],
   "source": [
    "# Finding the right learning rate\n",
    "lre = torch.linspace(-3, 0, 1000)\n",
    "lrs = 10**lre"
   ]
  },
  {
   "cell_type": "code",
   "execution_count": 285,
   "id": "c258a761-a588-4d48-89c7-82d03867cafb",
   "metadata": {},
   "outputs": [
    {
     "data": {
      "image/png": "[encoded data removed]",
      "text/plain": [
       "<Figure size 640x480 with 1 Axes>"
      ]
     },
     "metadata": {},
     "output_type": "display_data"
    }
   ],
   "source": [
    "# Plot learning curves\n",
    "plt.plot(lri, lossi)\n",
    "plt.show()"
   ]
  },
  {
   "cell_type": "markdown",
   "id": "b371651f-a1f5-4dd1-98bf-7ae730a689e8",
   "metadata": {},
   "source": [
    "## Drawing sample names "
   ]
  },
  {
   "cell_type": "code",
   "execution_count": 366,
   "id": "bd60ebf6-4fc5-49f5-9b36-6460ae47749b",
   "metadata": {},
   "outputs": [
    {
     "name": "stdout",
     "output_type": "stream",
     "text": [
      "junida\n",
      "tanca\n",
      "hodania\n",
      "wende\n",
      "mailsine\n",
      "sonf\n",
      "gunn\n",
      "signida\n",
      "ania\n",
      "victephieine\n"
     ]
    }
   ],
   "source": [
    "g = torch.Generator().manual_seed(2147483647)  # Set the random seed for reproducibility\n",
    "\n",
    "for i in range(10):  # Generate 5 names\n",
    "    out = []\n",
    "    ix = [0, 0, 0]  # Start with 3 special tokens (e.g., '.' or whatever token represents the beginning)\n",
    "\n",
    "    while True:\n",
    "        X = torch.tensor([ix])  # Create input tensor from the last 3 characters (size 1x3)\n",
    "\n",
    "        # Forward pass through the network\n",
    "        emb = C[X]  # Embed the input (shape 1x3x2 if C embeds 3 tokens into 2 dimensions)\n",
    "        h = torch.tanh(emb.view(1, -1) @ W1 + b1)  # Hidden layer (flatten embedding and apply W1 and b1)\n",
    "        logits = h @ W2 + b2  # Logits for the next character\n",
    "        counts = logits.exp()  # Unnormalized probabilities (counts)\n",
    "        p = counts / counts.sum(1, keepdims=True)  # Normalize probabilities\n",
    "\n",
    "        # Sample the next character from the probability distribution\n",
    "        ix_next = torch.multinomial(p, num_samples=1, replacement=True, generator=g).item()\n",
    "\n",
    "        # Break if end-of-sequence token (assuming 0 is the end-of-sequence token)\n",
    "        if ix_next == 0:\n",
    "            break\n",
    "\n",
    "        # Convert index to character and append to output\n",
    "        out.append(itos[ix_next])\n",
    "\n",
    "        # Update the input for the next iteration (shift the input window)\n",
    "        ix = ix[1:] + [ix_next]  # Slide the window, keeping the last 3 characters\n",
    "\n",
    "    # Print the generated name\n",
    "    print(''.join(out))\n"
   ]
  },
  {
   "cell_type": "code",
   "execution_count": 365,
   "id": "ccfc1266-6369-4654-92ef-97bf1d03d8e4",
   "metadata": {},
   "outputs": [
    {
     "name": "stdout",
     "output_type": "stream",
     "text": [
      "junida.\n",
      "tanca.\n",
      "hodania.\n",
      "wende.\n",
      "mailsine.\n",
      "sonf.\n",
      "gunn.\n",
      "signida.\n",
      "ania.\n",
      "victephieine.\n",
      "ingerd.\n",
      "jannayla.\n",
      "thorbrttp.\n",
      "hilde.\n",
      "maja.\n",
      "frøy.\n",
      "marija.\n",
      "lillia.\n",
      "yse.\n",
      "olette.\n"
     ]
    }
   ],
   "source": [
    "# Andrejs variant\n",
    "g = torch.Generator().manual_seed(2147483647)  # Set the random seed for reproducibility\n",
    "\n",
    "for _ in range(20):\n",
    "    out = []\n",
    "    context = [0] * block_size # intialize with all ...\n",
    "    while True:\n",
    "        emb = C[torch.tensor([context])]\n",
    "        h = torch.tanh(emb.view(1, -1) @ W1 + b1)  # Hidden layer (flatten embedding and apply W1 and b1)\n",
    "        logits = h @ W2 + b2  # Logits for the next character\n",
    "        probs = F.softmax(logits, dim=1)\n",
    "        ix = torch.multinomial(probs, num_samples=1, generator=g).item()\n",
    "        context = context[1:] + [ix]\n",
    "        out.append(ix)\n",
    "        if ix == 0:\n",
    "            break\n",
    "    print(\"\".join(itos[i] for i in out))"
   ]
  },
  {
   "cell_type": "code",
   "execution_count": null,
   "id": "c98b31fe-ba62-41e7-aea2-877b5a0f3c8e",
   "metadata": {},
   "outputs": [],
   "source": []
  }
 ],
 "metadata": {
  "kernelspec": {
   "display_name": "workproject",
   "language": "python",
   "name": "workproject"
  },
  "language_info": {
   "codemirror_mode": {
    "name": "ipython",
    "version": 3
   },
   "file_extension": ".py",
   "mimetype": "text/x-python",
   "name": "python",
   "nbconvert_exporter": "python",
   "pygments_lexer": "ipython3",
   "version": "3.11.9"
  }
 },
 "nbformat": 4,
 "nbformat_minor": 5
}
