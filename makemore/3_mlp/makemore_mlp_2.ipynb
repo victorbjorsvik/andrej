{
 "cells": [
  {
   "cell_type": "code",
   "execution_count": 1,
   "id": "fee9eb54-a112-490e-af39-1c37e8df7330",
   "metadata": {},
   "outputs": [],
   "source": [
    "import torch\n",
    "import torch.nn.functional as F\n",
    "import matplotlib.pyplot as plt\n",
    "%matplotlib inline"
   ]
  },
  {
   "cell_type": "code",
   "execution_count": 2,
   "id": "d57045ca-36f2-437c-8832-de8536db3c2b",
   "metadata": {},
   "outputs": [
    {
     "data": {
      "text/plain": [
       "['abel', 'abelone', 'abigael', 'abigail', 'ada', 'adela', 'adelaide', 'adele']"
      ]
     },
     "execution_count": 2,
     "metadata": {},
     "output_type": "execute_result"
    }
   ],
   "source": [
    "words = open(\"nameses/girl_names.txt\", \"r\").read().splitlines()\n",
    "words = [word.lower() for word in words]\n",
    "words[:8]"
   ]
  },
  {
   "cell_type": "code",
   "execution_count": 3,
   "id": "147f3c08-5385-4e80-9431-155a2bf530f2",
   "metadata": {},
   "outputs": [
    {
     "data": {
      "text/plain": [
       "3046"
      ]
     },
     "execution_count": 3,
     "metadata": {},
     "output_type": "execute_result"
    }
   ],
   "source": [
    "len(words)"
   ]
  },
  {
   "cell_type": "code",
   "execution_count": 4,
   "id": "8ffc6ae5-c49d-4566-a763-d7ab910932e7",
   "metadata": {},
   "outputs": [
    {
     "name": "stdout",
     "output_type": "stream",
     "text": [
      "{1: 'a', 2: 'b', 3: 'c', 4: 'd', 5: 'e', 6: 'f', 7: 'g', 8: 'h', 9: 'i', 10: 'j', 11: 'k', 12: 'l', 13: 'm', 14: 'n', 15: 'o', 16: 'p', 17: 'q', 18: 'r', 19: 's', 20: 't', 21: 'u', 22: 'v', 23: 'w', 24: 'x', 25: 'y', 26: 'z', 27: 'ä', 28: 'å', 29: 'æ', 30: 'ç', 31: 'é', 32: 'ø', 0: '.'}\n",
      "33\n"
     ]
    }
   ],
   "source": [
    "# Building out vocabulary\n",
    "chars = sorted(list(set(\"\".join(words))))\n",
    "stoi = {s:i+1 for i,s in enumerate(chars)}\n",
    "stoi[\".\"] = 0\n",
    "itos = {i:s for s,i in stoi.items()}\n",
    "vocab_size = len(itos)\n",
    "print(itos)\n",
    "print(vocab_size)"
   ]
  },
  {
   "cell_type": "code",
   "execution_count": 5,
   "id": "8dc8a8d5-6335-43ad-846f-bdd35b8cbd4e",
   "metadata": {},
   "outputs": [
    {
     "name": "stdout",
     "output_type": "stream",
     "text": [
      "torch.Size([17019, 3]) torch.Size([17019])\n",
      "torch.Size([2145, 3]) torch.Size([2145])\n",
      "torch.Size([2065, 3]) torch.Size([2065])\n"
     ]
    }
   ],
   "source": [
    "# Buliding the dataset with splits\n",
    "block_size = 3 # context length: how many characters do we take to predict the next one\n",
    "\n",
    "def build_dataset(words):\n",
    "    X, Y = [], []\n",
    "    \n",
    "    for w in words:\n",
    "        context = [0] * block_size\n",
    "        for ch in w + \".\":\n",
    "            ix = stoi[ch]\n",
    "            X.append(context)\n",
    "            Y.append(ix)\n",
    "            context = context[1:] + [ix] # crop and append\n",
    "    X = torch.tensor(X)\n",
    "    Y = torch.tensor(Y)\n",
    "    print(X.shape, Y.shape)\n",
    "    return X, Y\n",
    "\n",
    "import random\n",
    "random.seed(42)\n",
    "random.shuffle(words)\n",
    "n1 = int(0.8*len(words))\n",
    "n2 = int(0.9*len(words))\n",
    "\n",
    "Xtr, Ytr = build_dataset(words[:n1])       # 80%\n",
    "Xdev, Ydev = build_dataset(words[n1:n2])   # 10%\n",
    "Xte, Yte = build_dataset(words[n2:])       # 10%"
   ]
  },
  {
   "cell_type": "markdown",
   "id": "c1450c2d-f704-4032-8d70-80c7e11b3394",
   "metadata": {},
   "source": [
    "## Main code"
   ]
  },
  {
   "cell_type": "code",
   "execution_count": 109,
   "id": "18066862-02a6-476e-8c75-4fdf4e7521f6",
   "metadata": {},
   "outputs": [
    {
     "name": "stdout",
     "output_type": "stream",
     "text": [
      "num parameters: 13563\n"
     ]
    }
   ],
   "source": [
    "n_embd = 10 # the dimensionality of the character embedding  vectors\n",
    "n_hidden= 200 # number of neurons in the hidden layer\n",
    "\n",
    "g = torch.Generator().manual_seed(2147483647) # For reproducibility\n",
    "C = torch.randn((vocab_size, n_embd),               generator=g)\n",
    "W1 = torch.randn((n_embd*block_size, n_hidden),     generator=g) * (5/3)/((n_embd*block_size)**0.5) #0.2  --> new approach  is Kaiming initialization\n",
    "# b1 = torch.randn(n_hidden,                          generator=g) * 0.01    useless with batch norm\n",
    "W2 = torch.randn((n_hidden, vocab_size),            generator=g) * 0.01\n",
    "b2 = torch.randn(vocab_size,                        generator=g) * 0\n",
    "\n",
    "# BatchNorm parameters\n",
    "bngain = torch.ones((1, n_hidden))\n",
    "bnbias = torch.zeros((1, n_hidden))\n",
    "bnmean_running = torch.zeros((1, n_hidden))\n",
    "bnstd_running = torch.ones((1, n_hidden))\n",
    "\n",
    "parameters = [C, W1, b1, W2, b2, bngain, bnbias]\n",
    "print(\"num parameters:\", sum(p.nelement() for p in parameters)) # number of total parameters\n",
    "for p in parameters:\n",
    "    p.requires_grad = True"
   ]
  },
  {
   "cell_type": "code",
   "execution_count": 110,
   "id": "51ccd008-a4be-4e06-ab9d-f893ae7e36cd",
   "metadata": {},
   "outputs": [
    {
     "name": "stdout",
     "output_type": "stream",
     "text": [
      "      0/ 200000: 3.5190\n",
      "  10000/ 200000: 1.9764\n",
      "  20000/ 200000: 2.3075\n",
      "  30000/ 200000: 1.4166\n",
      "  40000/ 200000: 1.6168\n",
      "  50000/ 200000: 1.8052\n",
      "  60000/ 200000: 1.8216\n",
      "  70000/ 200000: 1.4300\n",
      "  80000/ 200000: 1.2578\n",
      "  90000/ 200000: 1.6867\n",
      " 100000/ 200000: 1.6832\n",
      " 110000/ 200000: 1.7981\n",
      " 120000/ 200000: 1.5725\n",
      " 130000/ 200000: 1.5597\n",
      " 140000/ 200000: 1.4803\n",
      " 150000/ 200000: 1.3651\n",
      " 160000/ 200000: 1.4513\n",
      " 170000/ 200000: 2.0445\n",
      " 180000/ 200000: 1.4337\n",
      " 190000/ 200000: 1.3461\n"
     ]
    }
   ],
   "source": [
    "max_steps = 200000\n",
    "batch_size = 32\n",
    "lossi = []\n",
    "\n",
    "for i in range(max_steps):\n",
    "\n",
    "    # Minibatch construct\n",
    "    ix = torch.randint(0, Xtr.shape[0], (batch_size,), generator=g)\n",
    "    Xb, Yb = Xtr[ix], Ytr[ix] # batch X,Y\n",
    "    \n",
    "    # Forward pass\n",
    "    emb = C[Xb] # embed characters into vectors\n",
    "    embcat = emb.view(emb.shape[0], -1) # concatenate the embedding vectors\n",
    "    # Linear layer\n",
    "    hpreact = embcat @ W1 # + b1 # hidden layer pre-activation\n",
    "    # BatchNorm Layer\n",
    "    #--------------------------------------------------------------\n",
    "    bnmeani = hpreact.mean(0, keepdim=True)\n",
    "    bnstdi = hpreact.std(0, keepdim=True)\n",
    "    hpreact = bngain * (hpreact - bnmeani) / bnstdi + bnbias\n",
    "    with torch.no_grad():\n",
    "        bnmean_running = 0.999 * bnmean_running + 0.001 * bnmeani\n",
    "        bnstd_running = 0.999 * bnstd_running + 0.001 * bnstdi\n",
    "    #-------------------------------------------------------------\n",
    "    # Non-linearity\n",
    "    h = torch.tanh(hpreact) # hidden layer\n",
    "    logits = h @ W2 + b2 # output layer\n",
    "    loss = F.cross_entropy(logits, Yb)\n",
    "    \n",
    "    # Backward pass\n",
    "    for p in parameters:\n",
    "        p.grad = None\n",
    "    loss.backward()\n",
    "    \n",
    "    # Update\n",
    "    lr = 10**-1 if i < 100000 else 100**-1 # step learning rate decay\n",
    "    for p in parameters:\n",
    "        p.data += -lr * p.grad\n",
    "\n",
    "    # Track stats\n",
    "    if i % 10000 == 0:\n",
    "        print(f\"{i:7d}/{max_steps:7d}: {loss.item():.4f}\")\n",
    "    lossi.append(loss.log10().item())\n",
    "\n",
    "    # break"
   ]
  },
  {
   "cell_type": "code",
   "execution_count": 111,
   "id": "6d16f5b7-904b-42e9-8811-4bd822f7f0b2",
   "metadata": {},
   "outputs": [
    {
     "data": {
      "image/png": "[encoded data removed]",
      "text/plain": [
       "<Figure size 640x480 with 1 Axes>"
      ]
     },
     "metadata": {},
     "output_type": "display_data"
    }
   ],
   "source": [
    "plt.plot(lossi)\n",
    "plt.show()"
   ]
  },
  {
   "cell_type": "code",
   "execution_count": 126,
   "id": "e5cf3079-38df-4c0f-8460-2d9ec276c6c0",
   "metadata": {},
   "outputs": [],
   "source": [
    "# Calibrate the batch-norm at the end of training\n",
    "with torch.no_grad():\n",
    "    # Pass the training set through\n",
    "    emb = C[Xtr]\n",
    "    embcat = emb.view(emb.shape[0], -1)\n",
    "    hpreact = embcat @ W1 # + b1\n",
    "    # measure the mean/std over the entire training set\n",
    "    bnmean = hpreact.mean(0, keepdim=True)\n",
    "    bnstd = hpreact.std(0, keepdim=True)\n",
    "\n",
    "\n",
    "# No longer necessary after running means and stds"
   ]
  },
  {
   "cell_type": "code",
   "execution_count": null,
   "id": "5ca33b62-d322-4c9d-86f1-ed1353505f06",
   "metadata": {},
   "outputs": [],
   "source": [
    "y = ax + b\n",
    "y = a1x1 + a2x2 + b"
   ]
  },
  {
   "cell_type": "code",
   "execution_count": 127,
   "id": "b8e71497-c199-4f87-b581-0ab07a3db217",
   "metadata": {},
   "outputs": [
    {
     "data": {
      "text/plain": [
       "True"
      ]
     },
     "execution_count": 127,
     "metadata": {},
     "output_type": "execute_result"
    }
   ],
   "source": [
    "torch.allclose(bnmean, bnmean_running, rtol=1e-01, atol=1e-01)"
   ]
  },
  {
   "cell_type": "code",
   "execution_count": 128,
   "id": "823173e5-384c-4923-8da6-0628aa26ea05",
   "metadata": {},
   "outputs": [
    {
     "data": {
      "text/plain": [
       "True"
      ]
     },
     "execution_count": 128,
     "metadata": {},
     "output_type": "execute_result"
    }
   ],
   "source": [
    "torch.allclose(bnstd, bnstd_running, rtol=1e-01, atol=1e-01)"
   ]
  },
  {
   "cell_type": "code",
   "execution_count": 131,
   "id": "29630006-cdce-493f-865c-b6c0d47de38a",
   "metadata": {},
   "outputs": [
    {
     "name": "stdout",
     "output_type": "stream",
     "text": [
      "train 1.4522385597229004\n",
      "val 1.9363845586776733\n"
     ]
    }
   ],
   "source": [
    "@torch.no_grad() # this decorator disables gradient tracking\n",
    "def split_loss(split):\n",
    "    x,y = {\n",
    "        'train': (Xtr, Ytr),\n",
    "        'val': (Xdev, Ydev),\n",
    "        'test': (Xte, Yte),\n",
    "    }[split]\n",
    "    emb = C[x] # (N, block_size, n_embd)\n",
    "    embcat = emb.view(emb.shape[0], -1) # concat into (N, block_size*n_embd)\n",
    "    hpreact = embcat @ W1 #+ b1\n",
    "    # hpreact = bngain * (hpreact - hpreact.mean(0, keepdim=True)) / hpreact.std(0, keepdim=True) + bnbias\n",
    "    hpreact = bngain * (hpreact - bnmean_running) / bnstd_running + bnbias\n",
    "    h = torch.tanh(hpreact) # (N, n_hidden)\n",
    "    logits = h @ W2 + b2 # (N, vocab_size)\n",
    "    loss = F.cross_entropy(logits, y)\n",
    "    print(split, loss.item())\n",
    "\n",
    "split_loss('train')\n",
    "split_loss('val')"
   ]
  },
  {
   "cell_type": "markdown",
   "id": "4047b066-a6a4-47be-9697-06a71cb6ea8c",
   "metadata": {
    "jp-MarkdownHeadingCollapsed": true
   },
   "source": [
    "#### Issue with activation function"
   ]
  },
  {
   "cell_type": "code",
   "execution_count": 73,
   "id": "66208c40-0655-4037-a410-96064f84698c",
   "metadata": {},
   "outputs": [
    {
     "data": {
      "text/plain": [
       "(tensor([False]), tensor([6400]))"
      ]
     },
     "execution_count": 73,
     "metadata": {},
     "output_type": "execute_result"
    }
   ],
   "source": [
    "(h == 1).unique(return_counts=True)"
   ]
  },
  {
   "cell_type": "code",
   "execution_count": 74,
   "id": "c29de6b3-a53a-4e5b-acc7-4224e932da12",
   "metadata": {},
   "outputs": [
    {
     "data": {
      "image/png": "[encoded data removed]",
      "text/plain": [
       "<Figure size 2000x1000 with 1 Axes>"
      ]
     },
     "metadata": {},
     "output_type": "display_data"
    }
   ],
   "source": [
    "plt.figure(figsize=(20,10))\n",
    "plt.imshow(h.abs() > 0.99, cmap=\"gray\", interpolation=\"nearest\")\n",
    "plt.show();"
   ]
  },
  {
   "cell_type": "code",
   "execution_count": 75,
   "id": "5fa956a1-5bfe-4380-80d0-f8b1239aa4f6",
   "metadata": {},
   "outputs": [
    {
     "data": {
      "image/png": "[encoded data removed]",
      "text/plain": [
       "<Figure size 640x480 with 1 Axes>"
      ]
     },
     "metadata": {},
     "output_type": "display_data"
    }
   ],
   "source": [
    "plt.hist(h.view(-1).tolist(), 50)\n",
    "plt.show()"
   ]
  },
  {
   "cell_type": "code",
   "execution_count": 76,
   "id": "cf0e2f36-0fd0-4b17-9afd-0a7d17230c30",
   "metadata": {},
   "outputs": [
    {
     "data": {
      "image/png": "[encoded data removed]",
      "text/plain": [
       "<Figure size 640x480 with 1 Axes>"
      ]
     },
     "metadata": {},
     "output_type": "display_data"
    }
   ],
   "source": [
    "plt.hist(hpreact.view(-1).tolist(), 50)\n",
    "plt.show()"
   ]
  },
  {
   "cell_type": "markdown",
   "id": "d3ba2398-77f5-4717-9b1f-b979532cbcb9",
   "metadata": {
    "jp-MarkdownHeadingCollapsed": true
   },
   "source": [
    "#### Issue with initialization"
   ]
  },
  {
   "cell_type": "code",
   "execution_count": 49,
   "id": "f6596d1b-bb91-4208-b79c-4893cfd7d29c",
   "metadata": {},
   "outputs": [
    {
     "data": {
      "text/plain": [
       "tensor(3.4965)"
      ]
     },
     "execution_count": 49,
     "metadata": {},
     "output_type": "execute_result"
    }
   ],
   "source": [
    "# issue with initialization - we expect first loss to be:\n",
    "-torch.tensor(1/33.).log()"
   ]
  },
  {
   "cell_type": "code",
   "execution_count": 86,
   "id": "54d18c2c-1010-4ced-9c04-779ce95df5bc",
   "metadata": {},
   "outputs": [
    {
     "name": "stdout",
     "output_type": "stream",
     "text": [
      "tensor(0.0006) tensor(1.0051)\n",
      "tensor(-0.0013) tensor(0.9873)\n"
     ]
    },
    {
     "data": {
      "image/png": "[encoded data removed]",
      "text/plain": [
       "<Figure size 2000x500 with 2 Axes>"
      ]
     },
     "metadata": {},
     "output_type": "display_data"
    }
   ],
   "source": [
    "x = torch.randn(1000, 10)\n",
    "w = torch.randn(10, 200) / 10**0.5\n",
    "y = x @ w\n",
    "print(x.mean(), x.std())\n",
    "print(y.mean(), y.std())\n",
    "\n",
    "plt.figure(figsize=(20,5))\n",
    "plt.subplot(121)\n",
    "plt.hist(x.view(-1).tolist(), 50, density=True)\n",
    "plt.subplot(122)\n",
    "plt.hist(y.view(-1).tolist(), 50, density=True)\n",
    "plt.show()"
   ]
  },
  {
   "cell_type": "markdown",
   "id": "b371651f-a1f5-4dd1-98bf-7ae730a689e8",
   "metadata": {},
   "source": [
    "## Drawing sample names "
   ]
  },
  {
   "cell_type": "code",
   "execution_count": 132,
   "id": "ccfc1266-6369-4654-92ef-97bf1d03d8e4",
   "metadata": {},
   "outputs": [
    {
     "name": "stdout",
     "output_type": "stream",
     "text": [
      "junine.\n",
      "jana.\n",
      "adolfrida.\n",
      "elin.\n",
      "maire.\n",
      "toriane.\n",
      "guri.\n",
      "signy.\n",
      "urd.\n",
      "ilde.\n",
      "aishbyanne.\n",
      "irja.\n",
      "sirpa.\n",
      "ayla.\n",
      "thorgfrid.\n",
      "hilde.\n",
      "maj.\n",
      "penny.\n",
      "wilhelen.\n",
      "cora.\n"
     ]
    }
   ],
   "source": [
    "# Andrejs variant\n",
    "g = torch.Generator().manual_seed(2147483647)  # Set the random seed for reproducibility\n",
    "\n",
    "for _ in range(20):\n",
    "    out = []\n",
    "    context = [0] * block_size # intialize with all ...\n",
    "    while True:\n",
    "        emb = C[torch.tensor([context])]\n",
    "        embcat = emb.view(1, -1)\n",
    "        hpreact = embcat @ W1 #+ b1\n",
    "        hpreact = bngain * (hpreact - bnmean_running) / bnstd_running + bnbias\n",
    "        h = torch.tanh(hpreact)  # Hidden layer (flatten embedding and apply W1 and b1)\n",
    "        logits = h @ W2 + b2  # Logits for the next character\n",
    "        probs = F.softmax(logits, dim=1)\n",
    "        \n",
    "        # sample from the distribution\n",
    "        ix = torch.multinomial(probs, num_samples=1, generator=g).item() \n",
    "\n",
    "        # shift the context window and track the samples\n",
    "        context = context[1:] + [ix] \n",
    "        out.append(ix)\n",
    "        \n",
    "        # if samples special character \".\" -> break\n",
    "        if ix == 0: \n",
    "            break\n",
    "    print(\"\".join(itos[i] for i in out))"
   ]
  },
  {
   "cell_type": "code",
   "execution_count": 133,
   "id": "c98b31fe-ba62-41e7-aea2-877b5a0f3c8e",
   "metadata": {},
   "outputs": [
    {
     "data": {
      "text/plain": [
       "['urd', 'urda', 'durdei']"
      ]
     },
     "execution_count": 133,
     "metadata": {},
     "output_type": "execute_result"
    }
   ],
   "source": [
    "[name for name in words if \"urd\" in name]"
   ]
  }
 ],
 "metadata": {
  "kernelspec": {
   "display_name": "workproject",
   "language": "python",
   "name": "workproject"
  },
  "language_info": {
   "codemirror_mode": {
    "name": "ipython",
    "version": 3
   },
   "file_extension": ".py",
   "mimetype": "text/x-python",
   "name": "python",
   "nbconvert_exporter": "python",
   "pygments_lexer": "ipython3",
   "version": "3.11.9"
  }
 },
 "nbformat": 4,
 "nbformat_minor": 5
}
